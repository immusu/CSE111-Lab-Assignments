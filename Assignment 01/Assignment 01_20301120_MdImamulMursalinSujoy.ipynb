{
 "cells": [
  {
   "cell_type": "code",
   "execution_count": 3,
   "metadata": {},
   "outputs": [
    {
     "name": "stdout",
     "output_type": "stream",
     "text": [
      "BaNaNa\n",
      "banana\n"
     ]
    }
   ],
   "source": [
    "#String\n",
    "#01\n",
    "\n",
    "user_str=input()\n",
    "upper_sum=0\n",
    "lower_sum=0\n",
    "\n",
    "for i in range(len(user_str)):\n",
    "    if ord(user_str[i])>=65 and ord(user_str[i])<=90:\n",
    "        upper_sum+=1\n",
    "    elif ord(user_str[i])>=97 and ord(user_str[i])<=122:\n",
    "        lower_sum+=1\n",
    "\n",
    "if upper_sum>lower_sum:\n",
    "    print(user_str.upper())\n",
    "elif lower_sum>=upper_sum:\n",
    "    print(user_str.lower())"
   ]
  },
  {
   "cell_type": "code",
   "execution_count": 8,
   "metadata": {},
   "outputs": [
    {
     "name": "stdout",
     "output_type": "stream",
     "text": [
      "Hello\n",
      "WORD\n"
     ]
    }
   ],
   "source": [
    "#String\n",
    "#02\n",
    "\n",
    "user_str=input()\n",
    "numbers=0\n",
    "chars=0\n",
    "\n",
    "for i in range(len(user_str)):\n",
    "    if ord(user_str[i])>=48 and ord(user_str[i])<=57:\n",
    "        numbers+=1\n",
    "    elif (ord(user_str[i])>=65 and ord(user_str[i])<=90) or (ord(user_str[i])>=97 and ord(user_str[i])<=122):\n",
    "        chars+=1\n",
    "        \n",
    "if len(user_str)==numbers:\n",
    "    print('NUMBER')\n",
    "elif len(user_str)==chars:\n",
    "    print('WORD')\n",
    "else:\n",
    "    print('MIXED')"
   ]
  },
  {
   "cell_type": "code",
   "execution_count": 13,
   "metadata": {},
   "outputs": [
    {
     "name": "stdout",
     "output_type": "stream",
     "text": [
      "baNgladEsh\n",
      "glad\n"
     ]
    }
   ],
   "source": [
    "#String\n",
    "#03\n",
    "\n",
    "user_str=input()\n",
    "range_idx=[]\n",
    "\n",
    "for i in range(len(user_str)):\n",
    "    if ord(user_str[i])>=65 and ord(user_str[i])<=90:\n",
    "        range_idx.append(i)\n",
    "        \n",
    "if range_idx[1]-range_idx[0]==1:\n",
    "    print('BLANK')\n",
    "else:\n",
    "    print(user_str[range_idx[0]+1:range_idx[1]])"
   ]
  },
  {
   "cell_type": "code",
   "execution_count": 18,
   "metadata": {},
   "outputs": [
    {
     "name": "stdout",
     "output_type": "stream",
     "text": [
      "The book is not too good!\n",
      "The book is not excellent!\n"
     ]
    }
   ],
   "source": [
    "#String\n",
    "#04\n",
    "\n",
    "user_str=input()\n",
    "\n",
    "if 'too good' in user_str:\n",
    "    print(user_str.replace('too good','excellent',1))\n",
    "else:\n",
    "    print(user_str)"
   ]
  },
  {
   "cell_type": "code",
   "execution_count": 19,
   "metadata": {},
   "outputs": [
    {
     "name": "stdout",
     "output_type": "stream",
     "text": [
      "harry\n",
      "hermione\n",
      "hrrhr\n"
     ]
    }
   ],
   "source": [
    "#String\n",
    "#05\n",
    "\n",
    "user_str1=input()\n",
    "user_str2=input()\n",
    "out_str=''\n",
    "\n",
    "for i in range(len(user_str1)):\n",
    "    if user_str1[i] in user_str2:\n",
    "        out_str+=user_str1[i]\n",
    "        \n",
    "for i in range(len(user_str2)):\n",
    "    if user_str2[i] in user_str1:\n",
    "        out_str+=user_str2[i]\n",
    "        \n",
    "if len(out_str)==0:\n",
    "    print('Nothing in common.')\n",
    "else:\n",
    "    print(out_str)"
   ]
  },
  {
   "cell_type": "code",
   "execution_count": 64,
   "metadata": {},
   "outputs": [
    {
     "name": "stdout",
     "output_type": "stream",
     "text": [
      "OhMyBR@CU20\n",
      "OK\n"
     ]
    }
   ],
   "source": [
    "#String\n",
    "#06\n",
    "\n",
    "user_str=input()\n",
    "uppers=0\n",
    "lowers=0\n",
    "digits=0\n",
    "sp_char=0\n",
    "\n",
    "for i in range(len(user_str)):\n",
    "    if ord(user_str[i])>=65 and ord(user_str[i])<=90:\n",
    "        uppers+=1\n",
    "    elif ord(user_str[i])>=97 and ord(user_str[i])<=122:\n",
    "        lowers+=1\n",
    "    elif ord(user_str[i])>=48 and ord(user_str[i])<=57:\n",
    "        digits+=1\n",
    "    elif ord(user_str[i])==95 or ord(user_str[i])==36 or ord(user_str[i])==35 or ord(user_str[i])==64:\n",
    "        sp_char+=1\n",
    "        \n",
    "\n",
    "out_str=''\n",
    "\n",
    "if uppers==0:\n",
    "    out_str+=('Uppercase character missing, ')\n",
    "if lowers==0:\n",
    "    out_str+=('Lowercase character missing, ')\n",
    "if digits==0:\n",
    "    out_str+=('Digit missing, ')\n",
    "if sp_char==0:\n",
    "    out_str+=('Special character missing, ')\n",
    "if uppers!=0 and lowers!=0 and digits!=0 and sp_char!=0:\n",
    "    out_str+=('OK  ')\n",
    "    \n",
    "print(out_str[:-2])"
   ]
  },
  {
   "cell_type": "code",
   "execution_count": 28,
   "metadata": {},
   "outputs": [
    {
     "name": "stdout",
     "output_type": "stream",
     "text": [
      "10\n",
      "20\n",
      "20\n",
      "30\n",
      "10\n",
      "50\n",
      "90\n",
      "STOP\n",
      "10 - 2 times\n",
      "20 - 2 times\n",
      "30 - 1 times\n",
      "50 - 1 times\n",
      "90 - 1 times\n"
     ]
    }
   ],
   "source": [
    "#List\n",
    "#01\n",
    "\n",
    "user_list=[]\n",
    "\n",
    "while True:\n",
    "    user_in=input()\n",
    "    if user_in=='STOP':\n",
    "        break\n",
    "    else:\n",
    "        user_list.append(user_in)\n",
    "        \n",
    "sing_list=[]\n",
    "counter_list=[]\n",
    "sing_list.append(user_list[0])\n",
    "\n",
    "for i in user_list:\n",
    "    if i not in sing_list:\n",
    "        sing_list.append(i)\n",
    "        \n",
    "for i in sing_list:\n",
    "    if i in user_list:\n",
    "        print(i, '-', user_list.count(i), 'times')"
   ]
  },
  {
   "cell_type": "code",
   "execution_count": 65,
   "metadata": {},
   "outputs": [
    {
     "name": "stdout",
     "output_type": "stream",
     "text": [
      "4\n",
      "1 2 3\n",
      "4 5 6\n",
      "10 11 12\n",
      "7 8 9\n",
      "33\n",
      "[10, 11, 12]\n"
     ]
    }
   ],
   "source": [
    "#List\n",
    "#02\n",
    "\n",
    "range_in=int(input())\n",
    "max_sum=0\n",
    "max_list=[]\n",
    "\n",
    "for i in range(range_in):\n",
    "    user_in=input().split(' ')\n",
    "    user_list=[]\n",
    "    \n",
    "    for j in user_in:\n",
    "        user_list.append(int(j))\n",
    "        \n",
    "    summ=0\n",
    "    \n",
    "    for k in user_list:\n",
    "        summ+=k\n",
    "    \n",
    "    if summ>max_sum:\n",
    "        max_sum=summ\n",
    "        max_list=user_list\n",
    "\n",
    "print(max_sum)\n",
    "print(max_list)"
   ]
  },
  {
   "cell_type": "code",
   "execution_count": 66,
   "metadata": {},
   "outputs": [
    {
     "name": "stdout",
     "output_type": "stream",
     "text": [
      "2 3 6\n",
      "3 4 5\n",
      "[6, 8, 10, 9, 12, 15, 18, 24, 30]\n"
     ]
    }
   ],
   "source": [
    "#List\n",
    "#03\n",
    "\n",
    "user_in1=input().split(' ')\n",
    "user_list1=[]\n",
    "for i in range(len(user_in1)):\n",
    "    user_list1.append(int(user_in1[i]))\n",
    "    \n",
    "user_in2=input().split(' ')\n",
    "user_list2=[]\n",
    "for i in range(len(user_in2)):\n",
    "    user_list2.append(int(user_in2[i]))\n",
    "    \n",
    "out_list=[]\n",
    "for idx1 in user_list1:\n",
    "    for idx2 in user_list2:\n",
    "        out_list.append(idx1*idx2)\n",
    "\n",
    "print(out_list)"
   ]
  },
  {
   "cell_type": "code",
   "execution_count": 68,
   "metadata": {},
   "outputs": [
    {
     "name": "stdout",
     "output_type": "stream",
     "text": [
      "1 4 2 3\n",
      "UB Jumper\n",
      "2 1 4 6 10\n",
      "UB Jumper\n",
      "1 4 2 -1 6\n",
      "Not UB Jumper\n",
      "STOP\n"
     ]
    }
   ],
   "source": [
    "#List\n",
    "#04\n",
    "\n",
    "while True:\n",
    "    user_in=input()\n",
    "    if user_in=='STOP':\n",
    "        break\n",
    "    else:\n",
    "        temp=user_in.split(' ')\n",
    "        user_list=[]\n",
    "        for i in range(len(temp)):\n",
    "            user_list.append(int(temp[i]))\n",
    "        \n",
    "        succ_list=[]\n",
    "        for i in range(len(user_list)):\n",
    "            if i==len(user_list)-1:\n",
    "                break\n",
    "            else:\n",
    "                if user_list[i]>user_list[i+1]:\n",
    "                    succ_list.append(user_list[i]-user_list[i+1])\n",
    "                else:\n",
    "                    succ_list.append(user_list[i+1]-user_list[i])\n",
    "        \n",
    "        sort_succ_list=sorted(succ_list, reverse=True)\n",
    "        counter=0\n",
    "        for i in range(len(sort_succ_list)):\n",
    "            if i==len(sort_succ_list)-1:\n",
    "                break\n",
    "            else:\n",
    "                if sort_succ_list[i]-sort_succ_list[i+1]!=1:\n",
    "                    counter+=1\n",
    "                    \n",
    "        if counter==0:\n",
    "            print('UB Jumper')\n",
    "        else:\n",
    "            print('Not UB Jumper')"
   ]
  },
  {
   "cell_type": "code",
   "execution_count": 3,
   "metadata": {},
   "outputs": [
    {
     "name": "stdout",
     "output_type": "stream",
     "text": [
      "Bracu1234\n",
      "acruB1324\n"
     ]
    }
   ],
   "source": [
    "#List\n",
    "#05\n",
    "\n",
    "user_in=input()\n",
    "upper=[]\n",
    "lower=[]\n",
    "digits=[]\n",
    "\n",
    "for i in range(len(user_in)):\n",
    "    if ord(user_in[i])>=65 and ord(user_in[i])<=90:\n",
    "        upper.append(user_in[i])\n",
    "    elif ord(user_in[i])>=97 and ord(user_in[i])<=122:\n",
    "        lower.append(user_in[i])\n",
    "    elif ord(user_in[i])>=48 and ord(user_in[i])<=57:\n",
    "        digits.append(user_in[i])\n",
    "        \n",
    "odd_dig=[]\n",
    "even_dig=[]\n",
    "\n",
    "for i in digits:\n",
    "    if int(i)%2==0:\n",
    "        even_dig.append(i)\n",
    "    else:\n",
    "        odd_dig.append(i)\n",
    "\n",
    "out_sort_list=sorted(lower)+sorted(upper)+sorted(odd_dig)+sorted(even_dig)\n",
    "user_out=''\n",
    "\n",
    "for i in out_sort_list:\n",
    "    user_out+=i\n",
    "\n",
    "print(user_out)"
   ]
  },
  {
   "cell_type": "code",
   "execution_count": 58,
   "metadata": {},
   "outputs": [
    {
     "name": "stdout",
     "output_type": "stream",
     "text": [
      "6 5\n",
      "0 0 0 0 0 0\n",
      "2\n"
     ]
    }
   ],
   "source": [
    "#List\n",
    "#06\n",
    "\n",
    "list1=input().split(' ')\n",
    "list2=input().split(' ')\n",
    "   \n",
    "can_part=[]\n",
    "\n",
    "for i in list2:\n",
    "    can_part.append(5-int(i))\n",
    "\n",
    "counter=0\n",
    "\n",
    "for i in can_part:\n",
    "    if i>=int(list1[1]):\n",
    "        counter+=1\n",
    "\n",
    "print(counter//3)"
   ]
  },
  {
   "cell_type": "code",
   "execution_count": 3,
   "metadata": {},
   "outputs": [
    {
     "name": "stdout",
     "output_type": "stream",
     "text": [
      "a: 100, b: 100, c: 200, d: 300\n",
      "a: 300, b: 200, d: 400, e: 200\n",
      "{'a': 400, 'b': 300, 'c': 200, 'd': 700, 'e': 200}\n",
      "Values: (200, 300, 400, 700)\n"
     ]
    }
   ],
   "source": [
    "#Dictionary & Tuple\n",
    "#01\n",
    "\n",
    "input1=input().split(', ')\n",
    "input2=input().split(', ')\n",
    "dictionary1={}\n",
    "dictionary2={}\n",
    "\n",
    "for idx1 in input1:\n",
    "    items=idx1.split(': ')\n",
    "    dictionary1[items[0]]=int(items[1])\n",
    "for idx2 in input2:\n",
    "    items=idx2.split(': ')\n",
    "    dictionary2[items[0]]=int(items[1])\n",
    "\n",
    "out_dictionay=dictionary1.copy()\n",
    "\n",
    "for key,val in dictionary2.items():\n",
    "    if key in out_dictionay:\n",
    "        out_dictionay[key]+=val\n",
    "    else:\n",
    "        out_dictionay[key]=val\n",
    "\n",
    "all_values=[]\n",
    "\n",
    "for i in out_dictionay.values():\n",
    "    if i not in all_values:\n",
    "        all_values.append(i)\n",
    "\n",
    "print(out_dictionay)    \n",
    "print('Values:', tuple(sorted(all_values)))"
   ]
  },
  {
   "cell_type": "code",
   "execution_count": 14,
   "metadata": {},
   "outputs": [
    {
     "name": "stdout",
     "output_type": "stream",
     "text": [
      "10\n",
      "20\n",
      "20\n",
      "30\n",
      "10\n",
      "50\n",
      "90\n",
      "STOP\n",
      "10 - 2 times\n",
      "20 - 2 times\n",
      "30 - 1 times\n",
      "50 - 1 times\n",
      "90 - 1 times\n"
     ]
    }
   ],
   "source": [
    "#Dictionary & Tuple\n",
    "#02\n",
    "\n",
    "temp_dict={}\n",
    "\n",
    "while True:\n",
    "    user_in=input()\n",
    "    if user_in=='STOP':\n",
    "        break\n",
    "    else:\n",
    "        if int(user_in) in temp_dict.keys():\n",
    "            temp_dict[int(user_in)]+=1\n",
    "        else:\n",
    "            temp_dict[int(user_in)]=1\n",
    "            \n",
    "for key,val in temp_dict.items():\n",
    "    print(key, '-', val, 'times')"
   ]
  },
  {
   "cell_type": "code",
   "execution_count": 2,
   "metadata": {},
   "outputs": [
    {
     "name": "stdout",
     "output_type": "stream",
     "text": [
      "key1 : value1, key2 : value2, key3 : value1\n",
      "{'value1': ['key1', 'key3'], 'value2': ['key2']}\n"
     ]
    }
   ],
   "source": [
    "#Dictionary & Tuple\n",
    "#03\n",
    "\n",
    "input1=input().split(', ')\n",
    "dictionary={}\n",
    "\n",
    "for idx in input1:\n",
    "    items=idx.split(' : ')\n",
    "    dictionary[items[0]]=items[1]\n",
    "\n",
    "out_dictionary={}\n",
    "\n",
    "for key,value in dictionary.items():\n",
    "    if out_dictionary=={} or value not in out_dictionary.keys():\n",
    "        out_dictionary[value]=[key]\n",
    "    else:\n",
    "        out_dictionary[value].append(key)\n",
    "\n",
    "print(out_dictionary)"
   ]
  },
  {
   "cell_type": "code",
   "execution_count": 74,
   "metadata": {},
   "outputs": [
    {
     "name": "stdout",
     "output_type": "stream",
     "text": [
      "evil\n",
      "live\n",
      "Those strings are anagrams.\n"
     ]
    }
   ],
   "source": [
    "#Dictionary & Tuple\n",
    "#04\n",
    "\n",
    "user_in1=input().lower()\n",
    "user_in2=input().lower()\n",
    "\n",
    "user_dict1={}\n",
    "user_dict2={}\n",
    "\n",
    "for i in range(len(user_in1)):\n",
    "    if user_in1[i] in user_dict1:\n",
    "        user_dict1[user_in1[i]]+=1\n",
    "    else:\n",
    "        user_dict1[user_in1[i]]=1\n",
    "        \n",
    "for i in range(len(user_in2)):\n",
    "    if user_in2[i] in user_dict2:\n",
    "        user_dict2[user_in2[i]]+=1\n",
    "    else:\n",
    "        user_dict2[user_in2[i]]=1\n",
    "\n",
    "if user_dict1==user_dict2:\n",
    "    print('Those strings are anagrams.')"
   ]
  },
  {
   "cell_type": "code",
   "execution_count": 72,
   "metadata": {},
   "outputs": [
    {
     "name": "stdout",
     "output_type": "stream",
     "text": [
      "Hello, World!\n",
      "4433555555666110966677755531111"
     ]
    }
   ],
   "source": [
    "#Dictionary & Tuple\n",
    "#05\n",
    "\n",
    "key_dict={'1':['.',',','?','!',':'], '2':['A','B','C'], '3':['D','E','F'], '4':['G','H','I'], '5':['J','K','L'], '6':['M','N','O'], '7':['P','Q','R','S'], '8':['T','U','V'], '9':['W','X','Y','Z'], '0':[' ']}\n",
    "\n",
    "user_in=input().upper()\n",
    "\n",
    "for char in range(len(user_in)):\n",
    "    for key, val in key_dict.items():\n",
    "        if user_in[char] in val:\n",
    "            print(key*(val.index(user_in[char])+1), end='')"
   ]
  },
  {
   "cell_type": "code",
   "execution_count": null,
   "metadata": {},
   "outputs": [],
   "source": []
  }
 ],
 "metadata": {
  "kernelspec": {
   "display_name": "Python 3",
   "language": "python",
   "name": "python3"
  },
  "language_info": {
   "codemirror_mode": {
    "name": "ipython",
    "version": 3
   },
   "file_extension": ".py",
   "mimetype": "text/x-python",
   "name": "python",
   "nbconvert_exporter": "python",
   "pygments_lexer": "ipython3",
   "version": "3.7.6"
  }
 },
 "nbformat": 4,
 "nbformat_minor": 4
}
