{
 "cells": [
  {
   "cell_type": "code",
   "execution_count": 25,
   "metadata": {},
   "outputs": [
    {
     "name": "stdout",
     "output_type": "stream",
     "text": [
      "0\n",
      "5\n",
      "0\n"
     ]
    }
   ],
   "source": [
    "#01\n",
    "\n",
    "def fraction_part(num1,num2):\n",
    "    if num2==0 or num1==0:\n",
    "        return 0\n",
    "    else:\n",
    "        return (num1/num2)-(num1//num2)\n",
    "    \n",
    "print(fraction_part(float(input()),float(input())))"
   ]
  },
  {
   "cell_type": "code",
   "execution_count": 22,
   "metadata": {},
   "outputs": [
    {
     "name": "stdout",
     "output_type": "stream",
     "text": [
      "152\n",
      "48\n",
      "Score is 20.8. You are Normal\n"
     ]
    }
   ],
   "source": [
    "#2\n",
    "\n",
    "def BMI_calculator(height,weight):\n",
    "    BMI=weight/(height/100)**2\n",
    "    if BMI<18.5:\n",
    "        print('Score is', '{:.1f}'.format(BMI)+'.', 'You are Underweight')\n",
    "    elif BMI>=18.5 and BMI<=24.9:\n",
    "        print('Score is', '{:.1f}'.format(BMI)+'.', 'You are Normal')\n",
    "    elif BMI>=25 and BMI<=30:\n",
    "        print('Score is', '{:.1f}'.format(BMI)+'.', 'You are Overweight')\n",
    "    else:\n",
    "        print('Score is', '{:.1f}'.format(BMI)+'.', 'You are Obese')\n",
    "    \n",
    "BMI_calculator(float(input()),float(input()))"
   ]
  },
  {
   "cell_type": "code",
   "execution_count": 16,
   "metadata": {},
   "outputs": [
    {
     "name": "stdout",
     "output_type": "stream",
     "text": [
      "3\n",
      "16\n",
      "3\n",
      "45\n"
     ]
    }
   ],
   "source": [
    "#3\n",
    "\n",
    "def divisible_sum(mini,maxi,div):\n",
    "    summ=0\n",
    "    for i in range(mini,maxi):\n",
    "        if i%div==0:\n",
    "            summ+=i\n",
    "    return summ\n",
    "\n",
    "print(divisible_sum(int(input()),int(input()),int(input())))"
   ]
  },
  {
   "cell_type": "code",
   "execution_count": 14,
   "metadata": {},
   "outputs": [
    {
     "name": "stdout",
     "output_type": "stream",
     "text": [
      "Beef Burger\n",
      "\n",
      "223.6\n"
     ]
    }
   ],
   "source": [
    "#4\n",
    "\n",
    "def chillox_clac(burg,location='Mohakhali'):\n",
    "    if burg=='BBQ Chicken Cheese Burger':\n",
    "        meal_cost=250\n",
    "    elif burg=='Beef Burger':\n",
    "        meal_cost=170\n",
    "    elif burg=='Naga Drums':\n",
    "        meal_cost=200\n",
    "    \n",
    "    if location=='Mohakhali' or location=='':\n",
    "        del_charge=40\n",
    "    else:\n",
    "        del_charge=60\n",
    "        \n",
    "    return meal_cost+del_charge+((8*meal_cost)/100)\n",
    "\n",
    "print(chillox_clac(input(),input()))"
   ]
  },
  {
   "cell_type": "code",
   "execution_count": 12,
   "metadata": {},
   "outputs": [
    {
     "name": "stdout",
     "output_type": "stream",
     "text": [
      "alice@kaaj.com\n",
      "sheba.xyz\n",
      "kaaj.com\n",
      "Changed: alice@sheba.xyz\n"
     ]
    }
   ],
   "source": [
    "#5\n",
    "\n",
    "def replace_domain(email_add,new_domain,old_domain=None):\n",
    "    temp=''\n",
    "    at_idx=0\n",
    "    for i in range(len(email_add)):\n",
    "        if email_add[i]=='@':\n",
    "            at_idx=i\n",
    "            break\n",
    "        else:\n",
    "            temp+=email_add[i]\n",
    "    \n",
    "    if email_add[at_idx+1:]==new_domain:\n",
    "        return 'Unchanged: '+email_add\n",
    "    else:\n",
    "        return 'Changed: '+temp+'@'+new_domain\n",
    "    \n",
    "print(replace_domain(input(),input(),input()))"
   ]
  },
  {
   "cell_type": "code",
   "execution_count": 9,
   "metadata": {},
   "outputs": [
    {
     "name": "stdout",
     "output_type": "stream",
     "text": [
      "Steve Jobs\n",
      "Vowels: e, e, o. Total number of vowels: 3\n"
     ]
    }
   ],
   "source": [
    "#6\n",
    "\n",
    "def vowel_detect(name):\n",
    "    vowels=''\n",
    "    counter=0\n",
    "    \n",
    "    for i in range(len(name)):\n",
    "        if name[i]!=' ':\n",
    "            if name[i].lower()=='a' or name[i].lower()=='e' or name[i].lower()=='i' or name[i].lower()=='o' or name[i].lower()=='u':\n",
    "                vowels+=name[i]+', '\n",
    "                counter+=1\n",
    "    if counter==0:\n",
    "        print('No vowels in the name')\n",
    "    else:\n",
    "        print('Vowels:', vowels[:-2]+'.', 'Total number of vowels:', counter)\n",
    "\n",
    "vowel_detect(input())"
   ]
  },
  {
   "cell_type": "code",
   "execution_count": 6,
   "metadata": {},
   "outputs": [
    {
     "name": "stdout",
     "output_type": "stream",
     "text": [
      "nurses run\n",
      "Palindrome\n"
     ]
    }
   ],
   "source": [
    "#7\n",
    "\n",
    "def palindrome_detect(user_str):\n",
    "    temp=(user_str.replace(' ','')).strip()\n",
    "    mid_len=len(temp)//2\n",
    "    first=temp[:mid_len]\n",
    "    second=''\n",
    "\n",
    "    for i in range(len(temp)-1,mid_len,-1):\n",
    "        second+=temp[i]\n",
    "    \n",
    "    if first==second:\n",
    "        print('Palindrome')\n",
    "    else:\n",
    "        print('Not a palindrome')\n",
    "    \n",
    "palindrome_detect(input())"
   ]
  },
  {
   "cell_type": "code",
   "execution_count": 3,
   "metadata": {},
   "outputs": [
    {
     "name": "stdout",
     "output_type": "stream",
     "text": [
      "4320\n",
      "11 years 10 months and 5 days\n"
     ]
    }
   ],
   "source": [
    "#8\n",
    "\n",
    "def day_clac(user_days):\n",
    "    years=user_days//365\n",
    "    temp=user_days%365\n",
    "    months=temp//30\n",
    "    days=temp%30\n",
    "\n",
    "    print(years, 'years', months, 'months and', days, 'days')\n",
    "\n",
    "day_clac(int(input()))"
   ]
  },
  {
   "cell_type": "code",
   "execution_count": 2,
   "metadata": {},
   "outputs": [
    {
     "name": "stdout",
     "output_type": "stream",
     "text": [
      "my favourite animal is a dog. a dog has sharp teeth so that it can eat flesh very easily. do you know my pet dog’s name? i love my pet very much.\n",
      "My favourite animal is a dog. A dog has sharp teeth so that it can eat flesh very easily. Do you know my pet dog’s name? I love my pet very much. \n"
     ]
    }
   ],
   "source": [
    "#9\n",
    "\n",
    "def capitalizer(para):\n",
    "    mark_idx=[]\n",
    "    temp_str=[]\n",
    "\n",
    "    for i in range(1,len(para)):\n",
    "        if para[i]=='.' or para[i]=='!' or para[i]=='?':\n",
    "            mark_idx.append(i)\n",
    "\n",
    "    for i in range(len(mark_idx)):\n",
    "        if i==0:\n",
    "            temp_str.append(para[:mark_idx[i]+1])\n",
    "            temp_str.append(para[mark_idx[i]+2:mark_idx[i+1]+1])\n",
    "        elif i==len(mark_idx)-1:\n",
    "            break\n",
    "        else:\n",
    "            temp_str.append(para[mark_idx[i]+2:mark_idx[i+1]+1])\n",
    "        \n",
    "    out_str=''\n",
    "\n",
    "    for i in temp_str:\n",
    "        out_str+=i[0].upper()\n",
    "        out_str+=i[1:]+' '\n",
    "    \n",
    "    print(out_str.replace(' i ', ' I '))\n",
    "\n",
    "capitalizer(input())"
   ]
  },
  {
   "cell_type": "code",
   "execution_count": null,
   "metadata": {},
   "outputs": [],
   "source": []
  }
 ],
 "metadata": {
  "kernelspec": {
   "display_name": "Python 3",
   "language": "python",
   "name": "python3"
  },
  "language_info": {
   "codemirror_mode": {
    "name": "ipython",
    "version": 3
   },
   "file_extension": ".py",
   "mimetype": "text/x-python",
   "name": "python",
   "nbconvert_exporter": "python",
   "pygments_lexer": "ipython3",
   "version": "3.7.6"
  }
 },
 "nbformat": 4,
 "nbformat_minor": 4
}
